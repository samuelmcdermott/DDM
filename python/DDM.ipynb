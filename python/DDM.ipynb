{
 "cells": [
  {
   "cell_type": "markdown",
   "id": "e78af2dc",
   "metadata": {},
   "source": [
    "# Differential Dynamic Microscopy"
   ]
  },
  {
   "cell_type": "markdown",
   "id": "736bb508",
   "metadata": {},
   "source": [
    "Cerbino, R. & Trappe, V. Differential dynamic microscopy: Probing wave vector dependent dynamics with a microscope. Phys. Rev. Lett. 100, 1–4 (2008)."
   ]
  },
  {
   "cell_type": "markdown",
   "id": "0132ccf6",
   "metadata": {},
   "source": [
    "## Import libraries"
   ]
  },
  {
   "cell_type": "code",
   "execution_count": null,
   "id": "55a3b7fe",
   "metadata": {
    "collapsed": false,
    "jupyter": {
     "outputs_hidden": false
    }
   },
   "outputs": [],
   "source": [
    "%matplotlib widget\n",
    "\n",
    "import os\n",
    "import cv2\n",
    "import numpy as np\n",
    "import matplotlib.pyplot as plt\n",
    "from matplotlib.pylab import subplot\n",
    "from matplotlib.colors import LogNorm\n",
    "from matplotlib.widgets import SpanSelector\n",
    "from tqdm.auto import tqdm\n",
    "from scipy.optimize import leastsq\n",
    "\n",
    "# Set environment variables for OpenCV\n",
    "os.environ['OPENCV_LOG_LEVEL'] = 'FATAL'\n",
    "os.environ['OPENCV_FFMPEG_LOGLEVEL'] = \"-8\""
   ]
  },
  {
   "cell_type": "markdown",
   "id": "28b53230",
   "metadata": {},
   "source": [
    "## Import video\n",
    "\n",
    "Add information about the video here."
   ]
  },
  {
   "cell_type": "code",
   "execution_count": null,
   "id": "b027e3eb",
   "metadata": {},
   "outputs": [],
   "source": [
    "video_file = \"0.5um colloids.mp4\" # Change this to the name of the video file you want to analyse\n",
    "pixelSize = 0.0969 #This is for the 100x objective on the OFM (in micrometre)"
   ]
  },
  {
   "cell_type": "markdown",
   "id": "f66eb226",
   "metadata": {},
   "source": [
    "### Image stack\n",
    "\n",
    "We will create a stack containing all of the frames of the video. The frame in postision `t` can be retrieved using `stack[t]`. "
   ]
  },
  {
   "cell_type": "code",
   "execution_count": null,
   "id": "7929e145",
   "metadata": {
    "collapsed": false,
    "jupyter": {
     "outputs_hidden": false
    }
   },
   "outputs": [],
   "source": [
    "class ImageStack(object):\n",
    "    def __init__(self, filename, channel = None):\n",
    "        # Initialize the ImageStack object\n",
    "        self.filename = filename\n",
    "        self.video = cv2.VideoCapture(filename)  # Open the video file\n",
    "        property_id = int(cv2.CAP_PROP_FRAME_COUNT)  \n",
    "        length = int(self.video.get(property_id))  # Get the number of frames in the video\n",
    "        self.frame_count = length  # Store the number of frames\n",
    "        self.fps = self.video.get(cv2.CAP_PROP_FPS)  # Get the frames per second of the video\n",
    "        self.channel = channel  # Store the specified channel\n",
    "        self.shape = self[0].shape\n",
    "\n",
    "    def __len__(self):\n",
    "        return self.frame_count  # Return the number of frames in the video\n",
    "            \n",
    "    def __getitem__(self, t):\n",
    "        if t<0: t= len(self)+t-1  # Handle negative indices\n",
    "        assert t < self.frame_count  # Check if the index is within the range\n",
    "        self.video.set(cv2.CAP_PROP_POS_FRAMES, t-1)  # Set the position of the video to the desired frame\n",
    "        success, image = self.video.read()  # Read the frame\n",
    "\n",
    "        if self.channel is not None:\n",
    "            return image[...,channel]  # Return the specified channel of the frame\n",
    "        if image is not None:\n",
    "            return image.mean(axis=2).astype(int)  # Return the grayscale version of the frame\n",
    "        self.shape = self[0].shape  # Get the shape of the first frame\n"
   ]
  },
  {
   "cell_type": "markdown",
   "id": "73c6cdc9",
   "metadata": {},
   "source": [
    "Create the image stack for the video.\n",
    "\n",
    "Show the first and last frame, and the difference between the two."
   ]
  },
  {
   "cell_type": "code",
   "execution_count": null,
   "id": "674d1609",
   "metadata": {
    "collapsed": false,
    "jupyter": {
     "outputs_hidden": false
    },
    "scrolled": true
   },
   "outputs": [],
   "source": [
    "stack = ImageStack(video_file)\n",
    "plt.figure(figsize=(14,4))\n",
    "plt.suptitle('Checking the Image Stack')\n",
    "subplot(1,3,1).imshow(stack[0], 'gray')\n",
    "subplot(1,3,1).set_title('First Frame')\n",
    "subplot(1,3,2).imshow(stack[-1], 'gray')\n",
    "subplot(1,3,2).set_title('Last Frame')\n",
    "subplot(1,3,3).imshow(np.abs(stack[-1]-stack[0]).astype(float), 'gray')\n",
    "subplot(1,3,3).set_title('Difference')"
   ]
  },
  {
   "cell_type": "markdown",
   "id": "c64f7cd3",
   "metadata": {},
   "source": [
    "## Functions to calculate the Image Structure Function (ISF)\n",
    "\n",
    "* First, we calculate the frame difference between the two frames $t$ and $t + \\tau$ ($\\tau$ is the lag time).\n",
    "* Then we Fourier transform (in 2-dimensions).\n",
    "* Next we square the modulus of the result.\n",
    "$$\\left|\\widehat{\\Delta I}\\right|^2(\\vec{q}, t, \\tau) = \\left|\\mathcal{F}\\left[I(\\vec{x}, t+\\tau) - I(\\vec{x}, t)\\right]\\right|^2$$\n",
    "where $I(\\vec{x}, t)$ is the intensity of the image at time $t$ at position $\\vec{x}$ and $\\mathcal{F}$ is the 2D Fourier transform."
   ]
  },
  {
   "cell_type": "code",
   "execution_count": null,
   "id": "367caf23",
   "metadata": {
    "collapsed": false,
    "jupyter": {
     "outputs_hidden": false
    }
   },
   "outputs": [],
   "source": [
    "def spectrumDiff(im0, im1):\n",
    "    \"\"\"Compute the squared modulus of the 2D Fourier Transform of the difference between im0 and im1\"\"\"\n",
    "    return np.abs(np.fft.fft2(im1-im0.astype(float)))**2"
   ]
  },
  {
   "cell_type": "markdown",
   "id": "b4d45eee",
   "metadata": {},
   "source": [
    "Show resulting spectra for $\\tau=$ 0.1 s, 1 s, 10s"
   ]
  },
  {
   "cell_type": "code",
   "execution_count": null,
   "id": "270e79ba",
   "metadata": {
    "collapsed": false,
    "jupyter": {
     "outputs_hidden": false
    }
   },
   "outputs": [],
   "source": [
    "plt.figure(figsize=(14,4))\n",
    "plt.suptitle('Spectra for different lag times')\n",
    "max_v = np.percentile(np.fft.fftshift(spectrumDiff(stack[0], stack[3])),99)\n",
    "subplot(1,3,1).imshow(np.fft.fftshift(spectrumDiff(stack[0], stack[3])), 'hot',vmin=0, vmax=max_v)\n",
    "subplot(1,3,1).set_title(r'$\\tau = 0.1s$')\n",
    "subplot(1,3,2).imshow(np.fft.fftshift(spectrumDiff(stack[0], stack[30])), 'hot',vmin=0, vmax=max_v)\n",
    "subplot(1,3,2).set_title(r'$\\tau = 1s$')\n",
    "subplot(1,3,3).imshow(np.fft.fftshift(spectrumDiff(stack[0], stack[300])), 'hot',vmin=0, vmax=max_v)\n",
    "subplot(1,3,3).set_title(r'$\\tau = 10s$')"
   ]
  },
  {
   "cell_type": "markdown",
   "id": "56363b41",
   "metadata": {},
   "source": [
    "A single couple of images is not enough to get good statistics - we need more spectra.\n",
    "\n",
    "For a fixed time interval `dt`, we take at most `maxNCouples` couples of images evenly spead in the available range of times and average over time."
   ]
  },
  {
   "cell_type": "code",
   "execution_count": null,
   "id": "a8de2aea",
   "metadata": {
    "collapsed": false,
    "jupyter": {
     "outputs_hidden": false
    }
   },
   "outputs": [],
   "source": [
    "def timeAveraged(stack, dt, maxNCouples=20):\n",
    "    \"\"\"Does at most maxNCouples spectreDiff on regularly spaced couples of images. \n",
    "    Separation within couple is dt.\"\"\"\n",
    "    #Spread initial times over the available range\n",
    "    increment = max([(len(stack)-dt)/maxNCouples, 1])\n",
    "    initialTimes = np.arange(0, len(stack)-dt, increment)\n",
    "    #perform the time average\n",
    "    avgFFT = np.zeros(stack.shape)\n",
    "    failed = 0\n",
    "    for t in initialTimes:\n",
    "        im0 = stack[t]\n",
    "        im1 = stack[t+dt]\n",
    "        if im0 is None or im1 is None:\n",
    "            failed +=1\n",
    "            continue\n",
    "        avgFFT += spectrumDiff(im0, im1)\n",
    "    return avgFFT / (len(initialTimes)-failed)"
   ]
  },
  {
   "cell_type": "markdown",
   "id": "67cd804b",
   "metadata": {},
   "source": [
    "Show the resulting time-averaged spectra for $dt = 3,30,300$ with maximum five couples."
   ]
  },
  {
   "cell_type": "code",
   "execution_count": null,
   "id": "a8b44102",
   "metadata": {
    "collapsed": false,
    "jupyter": {
     "outputs_hidden": false
    }
   },
   "outputs": [],
   "source": [
    "plt.figure(figsize=(14,4))\n",
    "plt.suptitle('Time Averaged Spectra')\n",
    "\n",
    "timeAverage_3 = timeAveraged(stack, 3, 5)\n",
    "timeAverage_30 = timeAveraged(stack, 30, 5)\n",
    "timeAverage_300 = timeAveraged(stack, 300, 5)\n",
    "\n",
    "subplot(1,3,1).imshow(np.fft.fftshift(timeAverage_3), 'hot',vmin=0, vmax=max_v)\n",
    "subplot(1,3,1).set_title('Time Average (dt = 3s)')\n",
    "subplot(1,3,2).imshow(np.fft.fftshift(timeAverage_30), 'hot',vmin=0, vmax=max_v)\n",
    "subplot(1,3,2).set_title('Time Average (dt = 30s)')\n",
    "subplot(1,3,3).imshow(np.fft.fftshift(timeAverage_300), 'hot',vmin=0, vmax=max_v)\n",
    "subplot(1,3,3).set_title('Time Average (dt = 300s)')"
   ]
  },
  {
   "cell_type": "markdown",
   "id": "4dd7fabb",
   "metadata": {},
   "source": [
    "Next, we need to calculate the radial average of the spectra, as we assume the dynamics are isotropic.\n",
    "\n",
    "Also, since some spectra have anomalously bright cross, we do not take this line and this column into account."
   ]
  },
  {
   "cell_type": "code",
   "execution_count": null,
   "id": "f85e2761",
   "metadata": {
    "collapsed": false,
    "jupyter": {
     "outputs_hidden": false
    }
   },
   "outputs": [],
   "source": [
    "class RadialAverager(object):\n",
    "    \"\"\"Radial average of a 2D array centred on (0,0), like the result of fft2d.\"\"\"\n",
    "    def __init__(self, shape):\n",
    "        \"\"\"A RadialAverager instance can process only arrays of a given shape, fixed at instanciation.\"\"\"\n",
    "        assert len(shape)==2\n",
    "        #matrix of distances\n",
    "        self.dists = np.sqrt(np.fft.fftfreq(shape[0])[:,None]**2 +  np.fft.fftfreq(shape[1])[None,:]**2)\n",
    "        #dump the cross\n",
    "        self.dists[0] = 0\n",
    "        self.dists[:,0] = 0\n",
    "        #discretize distances into bins\n",
    "        self.bins = np.arange(max(shape)/2+1)/float(max(shape))\n",
    "        #number of pixels at each distance\n",
    "        self.hd = np.histogram(self.dists, self.bins)[0]\n",
    "    \n",
    "    def __call__(self, im):\n",
    "        \"\"\"Perform and return the radial average of the specrum 'im'\"\"\"\n",
    "        assert im.shape == self.dists.shape\n",
    "        hw = np.histogram(self.dists, self.bins, weights=im)[0]\n",
    "        return hw/self.hd"
   ]
  },
  {
   "cell_type": "code",
   "execution_count": null,
   "id": "0c749e06",
   "metadata": {
    "collapsed": false,
    "jupyter": {
     "outputs_hidden": false
    }
   },
   "outputs": [],
   "source": [
    "plt.figure(figsize=(5,5))\n",
    "ra = RadialAverager(stack.shape)\n",
    "plt.plot(ra(timeAverage_30))\n",
    "plt.xscale('log')\n",
    "plt.yscale('log')\n",
    "plt.xlabel('q [px$^{-1}$]')\n",
    "plt.ylabel('Intensity [a.u.]')\n",
    "plt.title('Radial Average of the Time Averaged Spectrum')"
   ]
  },
  {
   "cell_type": "markdown",
   "id": "1a3a5da8",
   "metadata": {},
   "source": [
    "We won't perform all those steps for every time interval, it would be too time consuming. So we sample time intervals logarithmically."
   ]
  },
  {
   "cell_type": "code",
   "execution_count": null,
   "id": "198f4d4b",
   "metadata": {
    "collapsed": false,
    "jupyter": {
     "outputs_hidden": false
    }
   },
   "outputs": [],
   "source": [
    "def logSpaced(L, pointsPerDecade=15):\n",
    "    \"\"\"Generate an array of log spaced integers smaller than L\"\"\"\n",
    "    nbdecades = np.log10(L)\n",
    "    return np.unique(np.logspace(\n",
    "        start=0, stop=nbdecades, \n",
    "        num=int(nbdecades * pointsPerDecade), \n",
    "        base=10, endpoint=False\n",
    "        ).astype(int))"
   ]
  },
  {
   "cell_type": "markdown",
   "id": "6e99b174",
   "metadata": {},
   "source": [
    "Finally, we put everything together to obtain \n",
    "$$ISF(\\tau,q) = \\left\\langle \\left|\\widehat{\\Delta I}\\right|^2 (\\vec{q}, t, \\tau)\\right\\rangle$$ \n",
    "were $\\langle.\\rangle$ is the average at initial time $t$ and the orientation of $\\vec{q}$.\n",
    "\n",
    "Since this can be a long operation, we add a counter."
   ]
  },
  {
   "cell_type": "code",
   "execution_count": null,
   "id": "1e2bf8b1",
   "metadata": {
    "collapsed": false,
    "jupyter": {
     "outputs_hidden": false
    }
   },
   "outputs": [],
   "source": [
    "def calculate_isf(stack, idts, maxNCouples=1000):\n",
    "    \"\"\"Perform time averaged and radial averaged DDM for given time intervals.\n",
    "    Returns isf\"\"\"\n",
    "    ra = RadialAverager(stack.shape)\n",
    "    isf = np.zeros((len(idts), len(ra.hd)))\n",
    "    for i, idt in tqdm(enumerate(idts), total=len(idts)):\n",
    "        isf[i] = ra(timeAveraged(stack, idt, maxNCouples))\n",
    "    return isf"
   ]
  },
  {
   "cell_type": "markdown",
   "id": "2379910e",
   "metadata": {},
   "source": [
    "## Analysing your video"
   ]
  },
  {
   "cell_type": "markdown",
   "id": "3699ae9f",
   "metadata": {},
   "source": [
    "We will now analyse your video.\n",
    "\n",
    "If you want to try another video, you will need to change the video file information at the top of the script, but then you can continue here."
   ]
  },
  {
   "cell_type": "markdown",
   "id": "410b3e0d",
   "metadata": {},
   "source": [
    "### Calculate the ISF"
   ]
  },
  {
   "cell_type": "code",
   "execution_count": null,
   "id": "3e2ea8a4",
   "metadata": {
    "collapsed": false,
    "jupyter": {
     "outputs_hidden": false
    }
   },
   "outputs": [],
   "source": [
    "pointsPerDecade = 30\n",
    "maxNCouples = 10 #10 for fast evaluation, 300 for accurate analysis\n",
    "idts = logSpaced(len(stack), pointsPerDecade)\n",
    "dts = idts/stack.fps\n",
    "ISF = calculate_isf(stack, idts, maxNCouples)"
   ]
  },
  {
   "cell_type": "markdown",
   "id": "a4695034",
   "metadata": {},
   "source": [
    "Calculate the scale of wavenumbers $q$. Set the longest time index fit."
   ]
  },
  {
   "cell_type": "code",
   "execution_count": null,
   "id": "fe7edd05",
   "metadata": {},
   "outputs": [],
   "source": [
    "qs = 2*np.pi/(2*ISF.shape[-1]*pixelSize) * np.arange(ISF.shape[-1])\n",
    "tmax = -1"
   ]
  },
  {
   "cell_type": "markdown",
   "id": "a2b89de5",
   "metadata": {},
   "source": [
    "Display the ISF"
   ]
  },
  {
   "cell_type": "code",
   "execution_count": null,
   "id": "26dc089d",
   "metadata": {},
   "outputs": [],
   "source": [
    "plt.figure(figsize=(5,5))\n",
    "ISF_transposed = np.transpose(ISF)\n",
    "plt.imshow(ISF_transposed, cmap='viridis', aspect='auto', extent=[dts[0], dts[-1], qs[-1], qs[0]], norm=LogNorm())\n",
    "plt.colorbar(label='I(q,$\\\\tau$),[a.u.]')\n",
    "plt.title('Image Structure Function I(q,$\\\\tau$)')\n",
    "plt.xlabel('Lag time ($\\\\tau$) [s]')\n",
    "plt.ylabel('Spatial Frequency (q) [$\\\\mu m ^{-1}$]')\n",
    "plt.show()"
   ]
  },
  {
   "cell_type": "markdown",
   "id": "9234a7ea",
   "metadata": {},
   "source": [
    "## Fitting the ISF"
   ]
  },
  {
   "cell_type": "markdown",
   "id": "1c069a15",
   "metadata": {},
   "source": [
    "Now we fit our ISF to the model.\n",
    "\n",
    "Remember that the general form of the ISF is:\n",
    "\n",
    "$$ISF(\\tau,q) = A(q)[1-f(\\tau,q)] + B(q)$$\n",
    "\n",
    "* $A(q)$: Contributions from optics and static structures.\n",
    "* $B(q)$: Camera noise\n",
    "* $f(\\tau,q)$: Correlation function (system dynamics)\n",
    "\n",
    "All the information about the system dynamics is in $f(\\tau, q)$. In some simple cases - such as the one we are studying today - it can be obtained analytically.\n",
    "\n",
    "We will define the correlation function necessary for the expected system dynamics - for today, *either* Brownian motion *or* ballistic motion."
   ]
  },
  {
   "cell_type": "markdown",
   "id": "848bfb97",
   "metadata": {},
   "source": [
    "### Correlation function for Brownian motion\n",
    "\n",
    "For an homogenous sample of colloids undergoing simple Brownian motion, the theory says the correlation function is: \n",
    "\n",
    "$$f(\\tau,q) = \\exp\\left(\\frac{-\\tau}{\\tau_c(q)}\\right)$$\n",
    "\n",
    "where $\\tau_c$ is the characteristic decay time."
   ]
  },
  {
   "cell_type": "code",
   "execution_count": null,
   "id": "403aa353",
   "metadata": {
    "collapsed": false,
    "jupyter": {
     "outputs_hidden": false
    }
   },
   "outputs": [],
   "source": [
    "LogISF = lambda p, dts: np.log(np.maximum(p[0] * (1 - np.exp(-dts / p[2])) + p[1], 1e-10))"
   ]
  },
  {
   "cell_type": "markdown",
   "id": "8d5b1927",
   "metadata": {},
   "source": [
    "### Correlation function for ballistic motion\n",
    "\n",
    "For an homogeneous sample of colloids undergoing ballistic motion, the theory says the correlation function is:\n",
    "\n",
    "$$f(\\tau,q) = \\frac{\\sin\\left(\\frac{\\tau}{\\tau_c(q)}\\right)}{\\frac{\\tau}{\\tau_c(q)}}$$\n",
    "\n",
    "where $\\tau_c$ is the characteristic decay time."
   ]
  },
  {
   "cell_type": "code",
   "execution_count": null,
   "id": "91a67136",
   "metadata": {},
   "outputs": [],
   "source": [
    "LogISF = lambda p, dts: np.log(p[0] * (1-(np.sin(dts/p[2])/(dts/p[2]))) + p[1]) "
   ]
  },
  {
   "cell_type": "markdown",
   "id": "0502aa55",
   "metadata": {},
   "source": [
    "### Perform the ISF fitting\n",
    "\n",
    "Perform the fit at each $q$ and generate the values of the fitted function.\n",
    "\n",
    "\n",
    "\n",
    "Knowing the analytical form of $f(\\tau, q)$ allow us to fit the ISF one Fourier Mode at a time, leaving $A$ and $B$ as free parameters.\n",
    "\n",
    "\n",
    "You may encounter some RuntimeWarnings, but we can ignore them for now."
   ]
  },
  {
   "cell_type": "code",
   "execution_count": null,
   "id": "d0a38ae9",
   "metadata": {
    "collapsed": false,
    "jupyter": {
     "outputs_hidden": false
    }
   },
   "outputs": [],
   "source": [
    "import numpy as np\n",
    "\n",
    "params = np.zeros((ISF.shape[-1], 3))\n",
    "matrixfit = np.zeros(ISF[:tmax].T.shape)\n",
    "for iq, ddm in enumerate(ISF[:tmax].T):\n",
    "    params[iq] = leastsq(\n",
    "        # function to minimize\n",
    "        lambda p, dts, logd: LogISF(p, dts) - logd,\n",
    "        # initial parameters\n",
    "        [np.ptp(ISF), ddm.min(), 1],\n",
    "        # data on which to perform minimization\n",
    "        args=(dts[:tmax], np.log(ddm))\n",
    "    )[0]\n",
    "    # Ensure non-negative values\n",
    "    matrixfit[iq] = np.exp(LogISF(params[iq], dts[:tmax]))"
   ]
  },
  {
   "cell_type": "markdown",
   "id": "744df2a7",
   "metadata": {},
   "source": [
    "## Assess the ISF fits"
   ]
  },
  {
   "cell_type": "markdown",
   "id": "e335da08",
   "metadata": {},
   "source": [
    "Select the region of q where the fit will be valid."
   ]
  },
  {
   "cell_type": "code",
   "execution_count": null,
   "id": "d404de99",
   "metadata": {},
   "outputs": [],
   "source": [
    "def onselect(xmin, xmax):\n",
    "    global iqmin, iqmax\n",
    "    iqmin= np.searchsorted(qs, xmin)\n",
    "    iqmax = np.searchsorted(qs, xmax)\n",
    "    print(f\"Selected range: {qs[iqmin]:.2f} to {qs[iqmax]:.2f}\")\n",
    "\n",
    "fig, ax = plt.subplots(figsize=(8, 6))\n",
    "ax.plot(qs, params[:, 2], 'o')\n",
    "ax.set_xscale('log')\n",
    "ax.set_yscale('log')\n",
    "ax.set_xlabel(r'$q\\ [\\mu m^{-1}$]')\n",
    "ax.set_ylabel(r'Characteristic time $\\tau_c\\ [s]$')\n",
    "ax.set_title('Click and drag to select a valid range of q values')\n",
    "\n",
    "span = SpanSelector(ax, onselect, 'horizontal', useblit=True, interactive=True, props=dict(alpha=0.5, facecolor='red'))\n",
    "plt.show()"
   ]
  },
  {
   "cell_type": "code",
   "execution_count": null,
   "id": "a5a50f1d",
   "metadata": {},
   "outputs": [],
   "source": [
    "# Only use if you want to select the range of q manually\n",
    "\n",
    "iqmin = np.where(qs > 1)[0][0]\n",
    "iqmax = np.where(qs < 10)[0][-1]"
   ]
  },
  {
   "cell_type": "markdown",
   "id": "dd52f39a",
   "metadata": {},
   "source": [
    "Show parameters $A(q)$ and $B(q)$"
   ]
  },
  {
   "cell_type": "code",
   "execution_count": null,
   "id": "f0359908",
   "metadata": {
    "collapsed": false,
    "jupyter": {
     "outputs_hidden": false
    }
   },
   "outputs": [],
   "source": [
    "import matplotlib.pyplot as plt\n",
    "\n",
    "plt.figure(figsize=(8,6))\n",
    "plt.title('Fit parameters A(q) and B(q)')\n",
    "plt.plot(qs, params[:,0], 'o', label=\"A(q)\")\n",
    "plt.plot(qs, params[:,1], 'o', label=\"B(q)\")\n",
    "plt.xscale('log')\n",
    "plt.yscale('log')\n",
    "plt.xlabel(r'$q\\ [\\mu m^{-1}]$')\n",
    "plt.ylabel(r'$A(q),\\, B(q)$')\n",
    "\n",
    "plt.axvspan(qs[iqmin], qs[iqmax], color=(0.9,0.9,0.9))\n",
    "plt.legend()\n",
    "plt.ylim((1e3,1e11))\n"
   ]
  },
  {
   "cell_type": "markdown",
   "id": "3192672a",
   "metadata": {},
   "source": [
    "Show the results of the fit function $f(\\tau,q)$ of $q$ for various $\\tau$ and function of $\\tau$ for various $q$."
   ]
  },
  {
   "cell_type": "code",
   "execution_count": null,
   "id": "cea09d39",
   "metadata": {
    "collapsed": false,
    "jupyter": {
     "outputs_hidden": false
    }
   },
   "outputs": [],
   "source": [
    "plt.figure(figsize=(14,8))\n",
    "ax1 = subplot(1,2,1)\n",
    "for i in range(0,len(dts[:tmax]),5):\n",
    "    plt.plot(qs, ISF[i]/512**2, 'o', color=cm.autumn(i/float(len(dts[:tmax]))),label = f'$\\\\tau = {round(dts[i], 2)}s$')\n",
    "    plt.plot(qs, matrixfit[:,i]/512**2, '-k')\n",
    "plt.xscale('log')\n",
    "plt.yscale('log')\n",
    "plt.ylabel(r'$f(q,\\tau)$')\n",
    "plt.xlabel(r'$q\\ [\\mu m^{-1}]$')\n",
    "plt.axvspan(qs[iqmin], qs[iqmax], color=(0.9,0.9,0.9))\n",
    "plt.legend()\n",
    "\n",
    "ax2 = subplot(1,2,2, sharey=ax1)\n",
    "for i,iq in enumerate(np.logspace(np.log10(iqmin),np.log10(iqmax),10, base=10).astype(int)):\n",
    "    plt.plot(dts[:tmax], ISF[:tmax,iq]/512**2, 'o', color=cm.autumn(i/10.),label=f'$q = {round(qs[iq], 2)} \\\\mu m^{{-1}}$')\n",
    "    plt.plot(dts[:tmax], matrixfit[iq]/512**2, '-k')\n",
    "plt.xscale('log')\n",
    "plt.xlabel(r'$\\tau\\ [s]$')\n",
    "plt.setp(ax2.get_yticklabels(), visible=False)\n",
    "plt.legend()\n",
    "plt.ylim(10, 1e5)"
   ]
  },
  {
   "cell_type": "markdown",
   "id": "e9b06d1b",
   "metadata": {},
   "source": [
    "The corresponding ISF for various $q$ functions of $\\tau$ or, to show the Brownian rescaling, function of $q^2\\tau$."
   ]
  },
  {
   "cell_type": "code",
   "execution_count": null,
   "id": "ced531f8",
   "metadata": {
    "collapsed": false,
    "jupyter": {
     "outputs_hidden": false
    }
   },
   "outputs": [],
   "source": [
    "import matplotlib.pyplot as plt\n",
    "\n",
    "plt.figure(figsize=(14,8))\n",
    "ax1 = plt.subplot(1,2,1)\n",
    "for i,iq in enumerate(np.logspace(np.log10(iqmin),np.log10(iqmax),10, base=10).astype(int)):\n",
    "    plt.plot(dts[:tmax], 1- (ISF[:tmax,iq]-params[iq,1])/params[iq,0], 'o', color=cm.autumn(i/10.), label=f'$q = {round(qs[iq], 2)}\\\\mu m^{{-1}}$')\n",
    "    plt.plot(dts[:tmax], np.exp(-dts[:tmax]/params[iq,2]), '-k')\n",
    "plt.xscale('log')\n",
    "plt.ylabel(r'$ISF(q,\\tau)$')\n",
    "plt.xlabel(r'$\\tau\\ [s]$')\n",
    "plt.legend()\n",
    "\n",
    "ax2 = subplot(1,2,2, sharey=ax1)\n",
    "for i,iq in enumerate(np.logspace(np.log10(iqmin),np.log10(iqmax),10, base=10).astype(int)):\n",
    "    ax2.plot(qs[iq]**2*dts[:tmax], 1- (ISF[:tmax,iq]-params[iq,1])/params[iq,0], 'o', color=cm.autumn(i/10.),label=f'$q = {round(qs[iq], 2)}\\\\mu m^{{-1}}$')\n",
    "ax2.set_xscale('log')\n",
    "ax2.set_xlabel(r'$q^2\\tau\\ [\\mu m^2s]$')\n",
    "plt.setp(ax2.get_yticklabels(), visible=False)\n",
    "ax2.set_ylim(-0.1,1.1)\n",
    "ax2.legend()"
   ]
  },
  {
   "cell_type": "markdown",
   "id": "a7d3511d",
   "metadata": {},
   "source": [
    "## Fit the characteristic time"
   ]
  },
  {
   "cell_type": "markdown",
   "id": "cadb27b7",
   "metadata": {},
   "source": [
    "### Free exponent\n",
    "\n",
    "In the scenarios we are looking at today, from the theory we can expect there to be a power law relationship between the characteristic time $\\tau_c$ and the spatial frequency $q$. This relationship depends on the behaviour of the colloids but is of the form:\n",
    "$$\\tau_c(q) = \\frac{1}{Xq^\\alpha}$$\n",
    "where $X$ is a coefficient which charaterises the colloid diffusion (described below for each type of behaviour) and $\\alpha$ is a free exponent. \n",
    "\n",
    "For Brownian motion: $\\alpha = 2$  \n",
    "For ballistic motion: $\\alpha = 1$\n",
    "\n",
    "We therefore fit the characteristic time $\\tau_c(q)$ against $\\frac{1}{q^\\alpha}$ and to obtain the coefficient $D$ and the free exponent $\\alpha$. This will help us know what whether the colloid motion is Brownian or ballistic."
   ]
  },
  {
   "cell_type": "code",
   "execution_count": null,
   "id": "37eba829",
   "metadata": {},
   "outputs": [],
   "source": [
    "plt.figure(figsize=(8,6))\n",
    "plt.plot(qs, params[:,2], 'o')\n",
    "plt.xscale('log')\n",
    "plt.yscale('log')\n",
    "plt.xlabel(r'$q\\,(\\mu m^{-1})$')\n",
    "plt.ylabel(r'Characteristic time $\\tau_c (s)$')\n",
    "plt.axvspan(qs[iqmin], qs[iqmax], color=(0.9,0.9,0.9))\n",
    "\n",
    "X, alpha = leastsq(\n",
    "    lambda p, q, td: p[0] - p[1]*np.log(np.abs(q)) - np.log(np.abs(td)),\n",
    "    [1,2],\n",
    "    args=(qs[iqmin:iqmax], params[iqmin:iqmax,2])\n",
    "    )[0]\n",
    "X= np.exp(-X)\n",
    "plt.plot([qs[iqmin], qs[iqmax]], 1/(X*np.array([qs[iqmin], qs[iqmax]])**alpha), '-r')\n",
    "print(f\"alpha = {alpha:.02f}\")\n",
    "print(f\"X = {X:.02f}\")"
   ]
  },
  {
   "cell_type": "markdown",
   "id": "cd944bc1",
   "metadata": {},
   "source": [
    "### Brownian motion\n",
    "\n",
    "From the theory - for Brownian motion(random walk) - we can expect:\n",
    "\n",
    "$$\\tau_c(q) = \\frac{1}{Dq^2}$$\n",
    "\n",
    "where $D$ is the diffusion coefficient ($[D] = [L^2][T^{{-1}}]$).\n",
    "\n",
    "We therefore fit the characteristic time $\\tau_c(q)$ against $\\frac{1}{q^2}$ and to obtain the diffusion coefficient $D$.\n"
   ]
  },
  {
   "cell_type": "code",
   "execution_count": null,
   "id": "2a01b6ab",
   "metadata": {},
   "outputs": [],
   "source": [
    "plt.figure(figsize=(8,6))\n",
    "plt.plot(qs, params[:,2], 'o')\n",
    "plt.xscale('log')\n",
    "plt.yscale('log')\n",
    "plt.xlabel(r'$q\\,(\\mu m^{-1})$')\n",
    "plt.ylabel(r'Characteristic time $\\tau_c (s)$')\n",
    "plt.axvspan(qs[iqmin], qs[iqmax], color=(0.9,0.9,0.9))\n",
    "D = np.exp(-leastsq(\n",
    "    lambda p, q, td: p[0] - 2*np.log(q) - np.log(td),\n",
    "    [-1.],\n",
    "    args=(qs[iqmin:iqmax], params[iqmin:iqmax,2])\n",
    "    )[0][0])\n",
    "plt.plot([qs[iqmin], qs[iqmax]], 1/(D*np.array([qs[iqmin], qs[iqmax]])**2), '-r')\n",
    "print(f\"D = {D:.02f} µm²/s\")\n"
   ]
  },
  {
   "cell_type": "markdown",
   "id": "ea9bed88",
   "metadata": {},
   "source": [
    "Test it against the theoretical value using the Stokes-Einstein equation:\n",
    "\n",
    "$$ D = \\frac{k_B T}{3 \\pi \\mu a} $$\n",
    "\n",
    "where:\n",
    "- $ D $ is the diffusion coefficient,\n",
    "- $ k_B $ is the Boltzmann constant,\n",
    "- $ T $ is the absolute temperature,\n",
    "- $ \\mu $ is the dynamic viscosity,\n",
    "- $ a $ is the diameter of the spherical particle.\n",
    "\n"
   ]
  },
  {
   "cell_type": "code",
   "execution_count": null,
   "id": "66f2fdd6",
   "metadata": {},
   "outputs": [],
   "source": [
    "kB = 1.38e-23\n",
    "T = 300\n",
    "mu = 8.9e-4\n",
    "a = 0.5e-6 #change this to the diameter of the particle in metres\n",
    "\n",
    "D_theory = kB*T/(3*np.pi*mu*a) * 1e12\n",
    "print(f\"D theory = {D_theory:.02f} µm²/s\")"
   ]
  },
  {
   "cell_type": "markdown",
   "id": "5426f44e",
   "metadata": {},
   "source": [
    "Or estimate the size of the particles using the calculated diffusion coefficient."
   ]
  },
  {
   "cell_type": "code",
   "execution_count": null,
   "id": "bedf21d7",
   "metadata": {},
   "outputs": [],
   "source": [
    "predicted_a = kB*T/(3*np.pi*mu*D) *1e12*1e6\n",
    "print(f\"Diameter = {predicted_a:.02f} µm\")"
   ]
  },
  {
   "cell_type": "markdown",
   "id": "c5054cac",
   "metadata": {},
   "source": [
    "### Ballistic motion\n",
    "\n",
    "From the theory - for ballistic motion - we can expect:\n",
    "$$\\tau_c = \\frac{1}{\\nu q}$$\n",
    "where $\\nu$ is the mean velocity of the colloids.\n",
    "We therefore fit the characteristic time $\\tau_c(q)$ against $\\frac{1}{q}$ and to obtain the mean velocity $\\nu$."
   ]
  },
  {
   "cell_type": "code",
   "execution_count": null,
   "id": "b705955b",
   "metadata": {},
   "outputs": [],
   "source": [
    "plt.figure(figsize=(8,6))\n",
    "plt.plot(qs, params[:,2], 'o')\n",
    "plt.xscale('log')\n",
    "plt.yscale('log')\n",
    "plt.xlabel(r'$q\\,(\\mu m^{-1})$')\n",
    "plt.ylabel(r'Characteristic time $\\tau_c (s)$')\n",
    "plt.axvspan(qs[iqmin], qs[iqmax], color=(0.9,0.9,0.9))\n",
    "\n",
    "v = np.exp(-leastsq(\n",
    "    lambda p, q, td: p - np.log(np.abs(q)) - np.log(np.abs(td)),\n",
    "    [-1],\n",
    "    args=(qs[iqmin:iqmax], params[iqmin:iqmax,2])\n",
    "    )[0][0])\n",
    "plt.plot([qs[iqmin], qs[iqmax]], 1/(v*np.array([qs[iqmin], qs[iqmax]])), '-r')\n",
    "print(f\"v = {v:.02f} µm²/s\")"
   ]
  },
  {
   "cell_type": "markdown",
   "id": "20bc9e0c",
   "metadata": {},
   "source": [
    "## Acknowledgements\n",
    "\n",
    "Adapted from https://github.com/MathieuLeocmach/DDM."
   ]
  }
 ],
 "metadata": {
  "kernelspec": {
   "display_name": "Python 3",
   "language": "python",
   "name": "python3"
  },
  "language_info": {
   "codemirror_mode": {
    "name": "ipython",
    "version": 3
   },
   "file_extension": ".py",
   "mimetype": "text/x-python",
   "name": "python",
   "nbconvert_exporter": "python",
   "pygments_lexer": "ipython3",
   "version": "3.12.7"
  }
 },
 "nbformat": 4,
 "nbformat_minor": 5
}
